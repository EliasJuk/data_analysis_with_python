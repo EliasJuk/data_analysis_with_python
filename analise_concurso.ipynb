{
 "cells": [
  {
   "cell_type": "markdown",
   "id": "allied-teaching",
   "metadata": {},
   "source": [
    "# Análise concurso\n"
   ]
  },
  {
   "cell_type": "code",
   "execution_count": null,
   "id": "center-force",
   "metadata": {},
   "outputs": [],
   "source": [
    "import pandas as pd"
   ]
  },
  {
   "cell_type": "code",
   "execution_count": null,
   "id": "alien-standing",
   "metadata": {},
   "outputs": [],
   "source": [
    "data_concurso = pd.read_csv(\"data_raw/data_concurso/dados.csv\", sep=\",\", encoding='UTF-8') #ISO-8859-1"
   ]
  },
  {
   "cell_type": "code",
   "execution_count": null,
   "id": "toxic-branch",
   "metadata": {},
   "outputs": [],
   "source": [
    "data_concurso.head()"
   ]
  },
  {
   "cell_type": "code",
   "execution_count": null,
   "id": "average-infrared",
   "metadata": {},
   "outputs": [],
   "source": [
    "data_concurso[10:20]"
   ]
  },
  {
   "cell_type": "markdown",
   "id": "fancy-assurance",
   "metadata": {},
   "source": [
    "## Remove numero da inscrição e ano do cabeçalho"
   ]
  },
  {
   "cell_type": "code",
   "execution_count": null,
   "id": "tracked-battlefield",
   "metadata": {},
   "outputs": [],
   "source": [
    "data_concurso.columns.values"
   ]
  },
  {
   "cell_type": "markdown",
   "id": "billion-appearance",
   "metadata": {},
   "source": [
    "### Filtar por nome do Municipio, Estado, Idade, Sexo e Estado Civil"
   ]
  },
  {
   "cell_type": "code",
   "execution_count": null,
   "id": "governmental-colorado",
   "metadata": {},
   "outputs": [],
   "source": [
    "SelectColumn_Concurso = ['NO_MUNICIPIO_RESIDENCIA','SG_UF_RESIDENCIA', 'NU_IDADE', 'TP_SEXO', 'TP_ESTADO_CIVIL', 'NO_NOTA']"
   ]
  },
  {
   "cell_type": "code",
   "execution_count": null,
   "id": "present-direction",
   "metadata": {},
   "outputs": [],
   "source": [
    "SelectColumn_Concurso"
   ]
  },
  {
   "cell_type": "code",
   "execution_count": null,
   "id": "brief-clearance",
   "metadata": {},
   "outputs": [],
   "source": [
    "SelectColumn_Concurso = data_concurso.filter(items=SelectColumn_Concurso)"
   ]
  },
  {
   "cell_type": "code",
   "execution_count": null,
   "id": "faced-dance",
   "metadata": {},
   "outputs": [],
   "source": [
    "SelectColumn_Concurso[:10]"
   ]
  },
  {
   "cell_type": "markdown",
   "id": "quantitative-stretch",
   "metadata": {},
   "source": [
    "### Filtar por nome do Municipio"
   ]
  },
  {
   "cell_type": "code",
   "execution_count": null,
   "id": "reserved-cowboy",
   "metadata": {},
   "outputs": [],
   "source": [
    "no_municipio_residencia = data_concurso['NO_MUNICIPIO_RESIDENCIA']"
   ]
  },
  {
   "cell_type": "code",
   "execution_count": null,
   "id": "acceptable-shuttle",
   "metadata": {},
   "outputs": [],
   "source": [
    "no_municipio_residencia[:10]"
   ]
  },
  {
   "cell_type": "markdown",
   "id": "sapphire-soundtrack",
   "metadata": {},
   "source": [
    "### Quantidade de candidatos por Municipio"
   ]
  },
  {
   "cell_type": "code",
   "execution_count": null,
   "id": "monthly-joyce",
   "metadata": {},
   "outputs": [],
   "source": [
    "no_municipio_residencia.value_counts()[:10]"
   ]
  }
 ],
 "metadata": {
  "kernelspec": {
   "display_name": "Python 3",
   "language": "python",
   "name": "python3"
  },
  "language_info": {
   "codemirror_mode": {
    "name": "ipython",
    "version": 3
   },
   "file_extension": ".py",
   "mimetype": "text/x-python",
   "name": "python",
   "nbconvert_exporter": "python",
   "pygments_lexer": "ipython3",
   "version": "3.9.2"
  }
 },
 "nbformat": 4,
 "nbformat_minor": 5
}
