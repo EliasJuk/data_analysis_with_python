{
 "cells": [
  {
   "cell_type": "markdown",
   "id": "allied-teaching",
   "metadata": {},
   "source": [
    "# Análise concurso\n"
   ]
  },
  {
   "cell_type": "code",
   "execution_count": 168,
   "id": "center-force",
   "metadata": {},
   "outputs": [],
   "source": [
    "import pandas as pd\n",
    "import matplotlib.pyplot as plt"
   ]
  },
  {
   "cell_type": "code",
   "execution_count": 63,
   "id": "alien-standing",
   "metadata": {},
   "outputs": [],
   "source": [
    "data_concurso = pd.read_csv(\"data_raw/data_concurso/dados.csv\", sep=\",\", encoding='UTF-8') #ISO-8859-1"
   ]
  },
  {
   "cell_type": "code",
   "execution_count": 64,
   "id": "toxic-branch",
   "metadata": {},
   "outputs": [
    {
     "data": {
      "text/html": [
       "<div>\n",
       "<style scoped>\n",
       "    .dataframe tbody tr th:only-of-type {\n",
       "        vertical-align: middle;\n",
       "    }\n",
       "\n",
       "    .dataframe tbody tr th {\n",
       "        vertical-align: top;\n",
       "    }\n",
       "\n",
       "    .dataframe thead th {\n",
       "        text-align: right;\n",
       "    }\n",
       "</style>\n",
       "<table border=\"1\" class=\"dataframe\">\n",
       "  <thead>\n",
       "    <tr style=\"text-align: right;\">\n",
       "      <th></th>\n",
       "      <th>NU_INSCRICAO</th>\n",
       "      <th>NU_ANO</th>\n",
       "      <th>NO_MUNICIPIO_RESIDENCIA</th>\n",
       "      <th>SG_UF_RESIDENCIA</th>\n",
       "      <th>NU_IDADE</th>\n",
       "      <th>TP_SEXO</th>\n",
       "      <th>TP_ESTADO_CIVIL</th>\n",
       "      <th>NO_NOTA</th>\n",
       "      <th>IN_GESTANTE</th>\n",
       "      <th>Unnamed: 9</th>\n",
       "    </tr>\n",
       "  </thead>\n",
       "  <tbody>\n",
       "    <tr>\n",
       "      <th>0</th>\n",
       "      <td>200000400000</td>\n",
       "      <td>2020</td>\n",
       "      <td>Aracaju</td>\n",
       "      <td>SE</td>\n",
       "      <td>19</td>\n",
       "      <td>M</td>\n",
       "      <td>1</td>\n",
       "      <td>553.62</td>\n",
       "      <td>0</td>\n",
       "      <td>NaN</td>\n",
       "    </tr>\n",
       "    <tr>\n",
       "      <th>1</th>\n",
       "      <td>200000400001</td>\n",
       "      <td>2020</td>\n",
       "      <td>Sorriso</td>\n",
       "      <td>MT</td>\n",
       "      <td>25</td>\n",
       "      <td>M</td>\n",
       "      <td>1</td>\n",
       "      <td>437.46</td>\n",
       "      <td>0</td>\n",
       "      <td>NaN</td>\n",
       "    </tr>\n",
       "    <tr>\n",
       "      <th>2</th>\n",
       "      <td>200000400002</td>\n",
       "      <td>2020</td>\n",
       "      <td>Cascavel</td>\n",
       "      <td>PR</td>\n",
       "      <td>20</td>\n",
       "      <td>M</td>\n",
       "      <td>1</td>\n",
       "      <td>707.03</td>\n",
       "      <td>0</td>\n",
       "      <td>NaN</td>\n",
       "    </tr>\n",
       "    <tr>\n",
       "      <th>3</th>\n",
       "      <td>200000400003</td>\n",
       "      <td>2020</td>\n",
       "      <td>São Paulo</td>\n",
       "      <td>SP</td>\n",
       "      <td>17</td>\n",
       "      <td>M</td>\n",
       "      <td>1</td>\n",
       "      <td>507.12</td>\n",
       "      <td>0</td>\n",
       "      <td>NaN</td>\n",
       "    </tr>\n",
       "    <tr>\n",
       "      <th>4</th>\n",
       "      <td>200000400004</td>\n",
       "      <td>2020</td>\n",
       "      <td>Londrina</td>\n",
       "      <td>PR</td>\n",
       "      <td>22</td>\n",
       "      <td>M</td>\n",
       "      <td>0</td>\n",
       "      <td>583.39</td>\n",
       "      <td>0</td>\n",
       "      <td>NaN</td>\n",
       "    </tr>\n",
       "  </tbody>\n",
       "</table>\n",
       "</div>"
      ],
      "text/plain": [
       "   NU_INSCRICAO  NU_ANO NO_MUNICIPIO_RESIDENCIA SG_UF_RESIDENCIA  NU_IDADE  \\\n",
       "0  200000400000    2020                 Aracaju               SE        19   \n",
       "1  200000400001    2020                 Sorriso               MT        25   \n",
       "2  200000400002    2020                Cascavel               PR        20   \n",
       "3  200000400003    2020               São Paulo               SP        17   \n",
       "4  200000400004    2020                Londrina               PR        22   \n",
       "\n",
       "  TP_SEXO  TP_ESTADO_CIVIL  NO_NOTA  IN_GESTANTE  Unnamed: 9  \n",
       "0       M                1   553.62            0         NaN  \n",
       "1       M                1   437.46            0         NaN  \n",
       "2       M                1   707.03            0         NaN  \n",
       "3       M                1   507.12            0         NaN  \n",
       "4       M                0   583.39            0         NaN  "
      ]
     },
     "execution_count": 64,
     "metadata": {},
     "output_type": "execute_result"
    }
   ],
   "source": [
    "data_concurso.head()"
   ]
  },
  {
   "cell_type": "code",
   "execution_count": 65,
   "id": "average-infrared",
   "metadata": {},
   "outputs": [
    {
     "data": {
      "text/html": [
       "<div>\n",
       "<style scoped>\n",
       "    .dataframe tbody tr th:only-of-type {\n",
       "        vertical-align: middle;\n",
       "    }\n",
       "\n",
       "    .dataframe tbody tr th {\n",
       "        vertical-align: top;\n",
       "    }\n",
       "\n",
       "    .dataframe thead th {\n",
       "        text-align: right;\n",
       "    }\n",
       "</style>\n",
       "<table border=\"1\" class=\"dataframe\">\n",
       "  <thead>\n",
       "    <tr style=\"text-align: right;\">\n",
       "      <th></th>\n",
       "      <th>NU_INSCRICAO</th>\n",
       "      <th>NU_ANO</th>\n",
       "      <th>NO_MUNICIPIO_RESIDENCIA</th>\n",
       "      <th>SG_UF_RESIDENCIA</th>\n",
       "      <th>NU_IDADE</th>\n",
       "      <th>TP_SEXO</th>\n",
       "      <th>TP_ESTADO_CIVIL</th>\n",
       "      <th>NO_NOTA</th>\n",
       "      <th>IN_GESTANTE</th>\n",
       "      <th>Unnamed: 9</th>\n",
       "    </tr>\n",
       "  </thead>\n",
       "  <tbody>\n",
       "    <tr>\n",
       "      <th>10</th>\n",
       "      <td>200000400010</td>\n",
       "      <td>2020</td>\n",
       "      <td>João Pessoa</td>\n",
       "      <td>PB</td>\n",
       "      <td>19</td>\n",
       "      <td>M</td>\n",
       "      <td>1</td>\n",
       "      <td>432.56</td>\n",
       "      <td>0</td>\n",
       "      <td>NaN</td>\n",
       "    </tr>\n",
       "    <tr>\n",
       "      <th>11</th>\n",
       "      <td>200000400011</td>\n",
       "      <td>2020</td>\n",
       "      <td>Goiânia</td>\n",
       "      <td>GO</td>\n",
       "      <td>19</td>\n",
       "      <td>F</td>\n",
       "      <td>1</td>\n",
       "      <td>531.84</td>\n",
       "      <td>0</td>\n",
       "      <td>NaN</td>\n",
       "    </tr>\n",
       "    <tr>\n",
       "      <th>12</th>\n",
       "      <td>200000400012</td>\n",
       "      <td>2020</td>\n",
       "      <td>Santo André</td>\n",
       "      <td>SP</td>\n",
       "      <td>56</td>\n",
       "      <td>M</td>\n",
       "      <td>1</td>\n",
       "      <td>454.63</td>\n",
       "      <td>0</td>\n",
       "      <td>NaN</td>\n",
       "    </tr>\n",
       "    <tr>\n",
       "      <th>13</th>\n",
       "      <td>200000400013</td>\n",
       "      <td>2020</td>\n",
       "      <td>São Bernardo do Campo</td>\n",
       "      <td>SP</td>\n",
       "      <td>18</td>\n",
       "      <td>F</td>\n",
       "      <td>1</td>\n",
       "      <td>493.68</td>\n",
       "      <td>0</td>\n",
       "      <td>NaN</td>\n",
       "    </tr>\n",
       "    <tr>\n",
       "      <th>14</th>\n",
       "      <td>200000400014</td>\n",
       "      <td>2020</td>\n",
       "      <td>Montes Claros</td>\n",
       "      <td>MG</td>\n",
       "      <td>21</td>\n",
       "      <td>F</td>\n",
       "      <td>1</td>\n",
       "      <td>405.49</td>\n",
       "      <td>0</td>\n",
       "      <td>NaN</td>\n",
       "    </tr>\n",
       "  </tbody>\n",
       "</table>\n",
       "</div>"
      ],
      "text/plain": [
       "    NU_INSCRICAO  NU_ANO NO_MUNICIPIO_RESIDENCIA SG_UF_RESIDENCIA  NU_IDADE  \\\n",
       "10  200000400010    2020             João Pessoa               PB        19   \n",
       "11  200000400011    2020                 Goiânia               GO        19   \n",
       "12  200000400012    2020             Santo André               SP        56   \n",
       "13  200000400013    2020   São Bernardo do Campo               SP        18   \n",
       "14  200000400014    2020           Montes Claros               MG        21   \n",
       "\n",
       "   TP_SEXO  TP_ESTADO_CIVIL  NO_NOTA  IN_GESTANTE  Unnamed: 9  \n",
       "10       M                1   432.56            0         NaN  \n",
       "11       F                1   531.84            0         NaN  \n",
       "12       M                1   454.63            0         NaN  \n",
       "13       F                1   493.68            0         NaN  \n",
       "14       F                1   405.49            0         NaN  "
      ]
     },
     "execution_count": 65,
     "metadata": {},
     "output_type": "execute_result"
    }
   ],
   "source": [
    "data_concurso[10:15]"
   ]
  },
  {
   "cell_type": "markdown",
   "id": "fancy-assurance",
   "metadata": {},
   "source": [
    "## Remove numero da inscrição e ano do cabeçalho"
   ]
  },
  {
   "cell_type": "code",
   "execution_count": 66,
   "id": "tracked-battlefield",
   "metadata": {},
   "outputs": [
    {
     "data": {
      "text/plain": [
       "array(['NU_INSCRICAO', 'NU_ANO', 'NO_MUNICIPIO_RESIDENCIA',\n",
       "       'SG_UF_RESIDENCIA', 'NU_IDADE', 'TP_SEXO', 'TP_ESTADO_CIVIL',\n",
       "       'NO_NOTA', 'IN_GESTANTE', 'Unnamed: 9'], dtype=object)"
      ]
     },
     "execution_count": 66,
     "metadata": {},
     "output_type": "execute_result"
    }
   ],
   "source": [
    "data_concurso.columns.values"
   ]
  },
  {
   "cell_type": "markdown",
   "id": "billion-appearance",
   "metadata": {},
   "source": [
    "### Filtar por nome do Municipio, Estado, Idade, Sexo e Estado Civil"
   ]
  },
  {
   "cell_type": "code",
   "execution_count": 82,
   "id": "governmental-colorado",
   "metadata": {},
   "outputs": [],
   "source": [
    "SelectColumn_Concurso = ['NO_MUNICIPIO_RESIDENCIA','SG_UF_RESIDENCIA', 'NU_IDADE', 'TP_SEXO', 'TP_ESTADO_CIVIL', 'NO_NOTA', 'IN_GESTANTE']"
   ]
  },
  {
   "cell_type": "code",
   "execution_count": 83,
   "id": "present-direction",
   "metadata": {},
   "outputs": [
    {
     "data": {
      "text/plain": [
       "['NO_MUNICIPIO_RESIDENCIA',\n",
       " 'SG_UF_RESIDENCIA',\n",
       " 'NU_IDADE',\n",
       " 'TP_SEXO',\n",
       " 'TP_ESTADO_CIVIL',\n",
       " 'NO_NOTA',\n",
       " 'IN_GESTANTE']"
      ]
     },
     "execution_count": 83,
     "metadata": {},
     "output_type": "execute_result"
    }
   ],
   "source": [
    "SelectColumn_Concurso"
   ]
  },
  {
   "cell_type": "code",
   "execution_count": 84,
   "id": "brief-clearance",
   "metadata": {},
   "outputs": [],
   "source": [
    "# FILTRAR DADOS\n",
    "SelectColumn_Concurso = data_concurso.filter(items=SelectColumn_Concurso)"
   ]
  },
  {
   "cell_type": "code",
   "execution_count": 85,
   "id": "faced-dance",
   "metadata": {},
   "outputs": [
    {
     "data": {
      "text/html": [
       "<div>\n",
       "<style scoped>\n",
       "    .dataframe tbody tr th:only-of-type {\n",
       "        vertical-align: middle;\n",
       "    }\n",
       "\n",
       "    .dataframe tbody tr th {\n",
       "        vertical-align: top;\n",
       "    }\n",
       "\n",
       "    .dataframe thead th {\n",
       "        text-align: right;\n",
       "    }\n",
       "</style>\n",
       "<table border=\"1\" class=\"dataframe\">\n",
       "  <thead>\n",
       "    <tr style=\"text-align: right;\">\n",
       "      <th></th>\n",
       "      <th>NO_MUNICIPIO_RESIDENCIA</th>\n",
       "      <th>SG_UF_RESIDENCIA</th>\n",
       "      <th>NU_IDADE</th>\n",
       "      <th>TP_SEXO</th>\n",
       "      <th>TP_ESTADO_CIVIL</th>\n",
       "      <th>NO_NOTA</th>\n",
       "      <th>IN_GESTANTE</th>\n",
       "    </tr>\n",
       "  </thead>\n",
       "  <tbody>\n",
       "    <tr>\n",
       "      <th>0</th>\n",
       "      <td>Aracaju</td>\n",
       "      <td>SE</td>\n",
       "      <td>19</td>\n",
       "      <td>M</td>\n",
       "      <td>1</td>\n",
       "      <td>553.62</td>\n",
       "      <td>0</td>\n",
       "    </tr>\n",
       "    <tr>\n",
       "      <th>1</th>\n",
       "      <td>Sorriso</td>\n",
       "      <td>MT</td>\n",
       "      <td>25</td>\n",
       "      <td>M</td>\n",
       "      <td>1</td>\n",
       "      <td>437.46</td>\n",
       "      <td>0</td>\n",
       "    </tr>\n",
       "    <tr>\n",
       "      <th>2</th>\n",
       "      <td>Cascavel</td>\n",
       "      <td>PR</td>\n",
       "      <td>20</td>\n",
       "      <td>M</td>\n",
       "      <td>1</td>\n",
       "      <td>707.03</td>\n",
       "      <td>0</td>\n",
       "    </tr>\n",
       "    <tr>\n",
       "      <th>3</th>\n",
       "      <td>São Paulo</td>\n",
       "      <td>SP</td>\n",
       "      <td>17</td>\n",
       "      <td>M</td>\n",
       "      <td>1</td>\n",
       "      <td>507.12</td>\n",
       "      <td>0</td>\n",
       "    </tr>\n",
       "    <tr>\n",
       "      <th>4</th>\n",
       "      <td>Londrina</td>\n",
       "      <td>PR</td>\n",
       "      <td>22</td>\n",
       "      <td>M</td>\n",
       "      <td>0</td>\n",
       "      <td>583.39</td>\n",
       "      <td>0</td>\n",
       "    </tr>\n",
       "    <tr>\n",
       "      <th>5</th>\n",
       "      <td>Canoas</td>\n",
       "      <td>RS</td>\n",
       "      <td>16</td>\n",
       "      <td>F</td>\n",
       "      <td>0</td>\n",
       "      <td>375.15</td>\n",
       "      <td>0</td>\n",
       "    </tr>\n",
       "    <tr>\n",
       "      <th>6</th>\n",
       "      <td>Ponta Porã</td>\n",
       "      <td>MS</td>\n",
       "      <td>19</td>\n",
       "      <td>M</td>\n",
       "      <td>0</td>\n",
       "      <td>436.96</td>\n",
       "      <td>0</td>\n",
       "    </tr>\n",
       "    <tr>\n",
       "      <th>7</th>\n",
       "      <td>Guarulhos Campinas</td>\n",
       "      <td>SP</td>\n",
       "      <td>19</td>\n",
       "      <td>F</td>\n",
       "      <td>0</td>\n",
       "      <td>372.91</td>\n",
       "      <td>0</td>\n",
       "    </tr>\n",
       "    <tr>\n",
       "      <th>8</th>\n",
       "      <td>Santa Maria</td>\n",
       "      <td>RS</td>\n",
       "      <td>27</td>\n",
       "      <td>M</td>\n",
       "      <td>1</td>\n",
       "      <td>571.13</td>\n",
       "      <td>0</td>\n",
       "    </tr>\n",
       "    <tr>\n",
       "      <th>9</th>\n",
       "      <td>Belo Horizonte</td>\n",
       "      <td>MG</td>\n",
       "      <td>22</td>\n",
       "      <td>F</td>\n",
       "      <td>0</td>\n",
       "      <td>783.43</td>\n",
       "      <td>0</td>\n",
       "    </tr>\n",
       "  </tbody>\n",
       "</table>\n",
       "</div>"
      ],
      "text/plain": [
       "  NO_MUNICIPIO_RESIDENCIA SG_UF_RESIDENCIA  NU_IDADE TP_SEXO  TP_ESTADO_CIVIL  \\\n",
       "0                 Aracaju               SE        19       M                1   \n",
       "1                 Sorriso               MT        25       M                1   \n",
       "2                Cascavel               PR        20       M                1   \n",
       "3               São Paulo               SP        17       M                1   \n",
       "4                Londrina               PR        22       M                0   \n",
       "5                  Canoas               RS        16       F                0   \n",
       "6              Ponta Porã               MS        19       M                0   \n",
       "7      Guarulhos Campinas               SP        19       F                0   \n",
       "8             Santa Maria               RS        27       M                1   \n",
       "9          Belo Horizonte               MG        22       F                0   \n",
       "\n",
       "   NO_NOTA  IN_GESTANTE  \n",
       "0   553.62            0  \n",
       "1   437.46            0  \n",
       "2   707.03            0  \n",
       "3   507.12            0  \n",
       "4   583.39            0  \n",
       "5   375.15            0  \n",
       "6   436.96            0  \n",
       "7   372.91            0  \n",
       "8   571.13            0  \n",
       "9   783.43            0  "
      ]
     },
     "execution_count": 85,
     "metadata": {},
     "output_type": "execute_result"
    }
   ],
   "source": [
    "SelectColumn_Concurso[:10]"
   ]
  },
  {
   "cell_type": "markdown",
   "id": "quantitative-stretch",
   "metadata": {},
   "source": [
    "### Filtar por nome do Municipio"
   ]
  },
  {
   "cell_type": "code",
   "execution_count": 86,
   "id": "reserved-cowboy",
   "metadata": {},
   "outputs": [],
   "source": [
    "no_municipio_residencia = data_concurso['NO_MUNICIPIO_RESIDENCIA']"
   ]
  },
  {
   "cell_type": "code",
   "execution_count": 87,
   "id": "acceptable-shuttle",
   "metadata": {},
   "outputs": [
    {
     "data": {
      "text/plain": [
       "0               Aracaju\n",
       "1               Sorriso\n",
       "2              Cascavel\n",
       "3             São Paulo\n",
       "4              Londrina\n",
       "5                Canoas\n",
       "6            Ponta Porã\n",
       "7    Guarulhos Campinas\n",
       "8           Santa Maria\n",
       "9        Belo Horizonte\n",
       "Name: NO_MUNICIPIO_RESIDENCIA, dtype: object"
      ]
     },
     "execution_count": 87,
     "metadata": {},
     "output_type": "execute_result"
    }
   ],
   "source": [
    "no_municipio_residencia[:10]"
   ]
  },
  {
   "cell_type": "markdown",
   "id": "dimensional-gathering",
   "metadata": {},
   "source": [
    "### Distribuição de candidatos por Municipio"
   ]
  },
  {
   "cell_type": "code",
   "execution_count": 88,
   "id": "monthly-joyce",
   "metadata": {},
   "outputs": [
    {
     "data": {
      "text/plain": [
       "São Paulo             5\n",
       "Porto Alegre          3\n",
       "Guarulhos Campinas    3\n",
       "Cuiabá                3\n",
       "Santo André           3\n",
       "Ponta Grossa          3\n",
       "Belo Horizonte        3\n",
       "Curitiba              3\n",
       "Cascavel              3\n",
       "Ribeirão Preto        3\n",
       "Name: NO_MUNICIPIO_RESIDENCIA, dtype: int64"
      ]
     },
     "execution_count": 88,
     "metadata": {},
     "output_type": "execute_result"
    }
   ],
   "source": [
    "no_municipio_residencia.value_counts()[:10]"
   ]
  },
  {
   "cell_type": "markdown",
   "id": "received-bumper",
   "metadata": {},
   "source": [
    "# Histogramas"
   ]
  },
  {
   "cell_type": "markdown",
   "id": "prospective-martial",
   "metadata": {},
   "source": [
    "## Distribuição das idades dos candidatos"
   ]
  },
  {
   "cell_type": "code",
   "execution_count": 89,
   "id": "metallic-currency",
   "metadata": {},
   "outputs": [],
   "source": [
    "# FILTRAR COLUNA NU_IDADE\n",
    "column_nu_idade = SelectColumn_Concurso['NU_IDADE']"
   ]
  },
  {
   "cell_type": "code",
   "execution_count": 90,
   "id": "unable-drain",
   "metadata": {},
   "outputs": [
    {
     "data": {
      "text/plain": [
       "0    19\n",
       "1    25\n",
       "2    20\n",
       "3    17\n",
       "4    22\n",
       "Name: NU_IDADE, dtype: int64"
      ]
     },
     "execution_count": 90,
     "metadata": {},
     "output_type": "execute_result"
    }
   ],
   "source": [
    "column_nu_idade.head()"
   ]
  },
  {
   "cell_type": "code",
   "execution_count": 91,
   "id": "irish-franklin",
   "metadata": {},
   "outputs": [
    {
     "data": {
      "text/plain": [
       "15     2\n",
       "16     2\n",
       "17     5\n",
       "18     9\n",
       "19    16\n",
       "20    11\n",
       "21    15\n",
       "22    10\n",
       "23     3\n",
       "24     9\n",
       "25     3\n",
       "26     5\n",
       "27     5\n",
       "28     2\n",
       "29     1\n",
       "32     2\n",
       "33     1\n",
       "35     3\n",
       "36     1\n",
       "42     1\n",
       "45     1\n",
       "56     1\n",
       "82     1\n",
       "Name: NU_IDADE, dtype: int64"
      ]
     },
     "execution_count": 91,
     "metadata": {},
     "output_type": "execute_result"
    }
   ],
   "source": [
    "# ORDENAR POR IDADE\n",
    "column_nu_idade.value_counts().sort_index()"
   ]
  },
  {
   "cell_type": "code",
   "execution_count": 169,
   "id": "minor-equipment",
   "metadata": {},
   "outputs": [
    {
     "data": {
      "text/plain": [
       "<AxesSubplot:>"
      ]
     },
     "execution_count": 169,
     "metadata": {},
     "output_type": "execute_result"
    },
    {
     "data": {
      "image/png": "[encoded data removed]",
      "text/plain": [
       "<Figure size 432x288 with 1 Axes>"
      ]
     },
     "metadata": {
      "needs_background": "light"
     },
     "output_type": "display_data"
    }
   ],
   "source": [
    "column_nu_idade.hist(bins=30)"
   ]
  },
  {
   "cell_type": "code",
   "execution_count": 93,
   "id": "coral-holiday",
   "metadata": {},
   "outputs": [
    {
     "data": {
      "text/plain": [
       "19    16\n",
       "21    15\n",
       "20    11\n",
       "22    10\n",
       "18     9\n",
       "24     9\n",
       "26     5\n",
       "17     5\n",
       "27     5\n",
       "23     3\n",
       "25     3\n",
       "35     3\n",
       "32     2\n",
       "15     2\n",
       "28     2\n",
       "16     2\n",
       "29     1\n",
       "33     1\n",
       "36     1\n",
       "42     1\n",
       "45     1\n",
       "56     1\n",
       "82     1\n",
       "Name: NU_IDADE, dtype: int64"
      ]
     },
     "execution_count": 93,
     "metadata": {},
     "output_type": "execute_result"
    }
   ],
   "source": [
    "column_nu_idade.value_counts()"
   ]
  },
  {
   "cell_type": "code",
   "execution_count": null,
   "id": "assigned-alexandria",
   "metadata": {},
   "outputs": [],
   "source": []
  },
  {
   "cell_type": "markdown",
   "id": "removed-logic",
   "metadata": {},
   "source": [
    "## Distribuição de candidatos por estados"
   ]
  },
  {
   "cell_type": "code",
   "execution_count": 94,
   "id": "affiliated-direction",
   "metadata": {},
   "outputs": [],
   "source": [
    "column_sg_uf_residencia = SelectColumn_Concurso['SG_UF_RESIDENCIA']"
   ]
  },
  {
   "cell_type": "code",
   "execution_count": 95,
   "id": "freelance-lancaster",
   "metadata": {},
   "outputs": [
    {
     "data": {
      "text/plain": [
       "SP    18\n",
       "PR    13\n",
       "RS    10\n",
       "MT     9\n",
       "MS     9\n",
       "MG     9\n",
       "AL     2\n",
       "SE     2\n",
       "DF     2\n",
       "RR     2\n",
       "PA     2\n",
       "RJ     2\n",
       "SC     2\n",
       "AC     2\n",
       "PE     2\n",
       "RO     2\n",
       "CE     2\n",
       "RN     2\n",
       "AP     2\n",
       "GO     2\n",
       "AM     2\n",
       "PI     2\n",
       "PB     2\n",
       "MA     2\n",
       "BA     2\n",
       "ES     2\n",
       "TO     1\n",
       "Name: SG_UF_RESIDENCIA, dtype: int64"
      ]
     },
     "execution_count": 95,
     "metadata": {},
     "output_type": "execute_result"
    }
   ],
   "source": [
    "column_sg_uf_residencia.value_counts()"
   ]
  },
  {
   "cell_type": "code",
   "execution_count": 103,
   "id": "further-upgrade",
   "metadata": {},
   "outputs": [
    {
     "data": {
      "text/plain": [
       "<AxesSubplot:>"
      ]
     },
     "execution_count": 103,
     "metadata": {},
     "output_type": "execute_result"
    },
    {
     "data": {
      "image/png": "[encoded data removed]",
      "text/plain": [
       "<Figure size 432x288 with 1 Axes>"
      ]
     },
     "metadata": {
      "needs_background": "light"
     },
     "output_type": "display_data"
    }
   ],
   "source": [
    "column_sg_uf_residencia.hist()"
   ]
  },
  {
   "cell_type": "markdown",
   "id": "spectacular-subscription",
   "metadata": {},
   "source": [
    "## Distribuição por sexo"
   ]
  },
  {
   "cell_type": "code",
   "execution_count": 119,
   "id": "neutral-health",
   "metadata": {},
   "outputs": [],
   "source": [
    "coluna_tp_sexo = SelectColumn_Concurso['TP_SEXO']"
   ]
  },
  {
   "cell_type": "code",
   "execution_count": 120,
   "id": "brave-landing",
   "metadata": {},
   "outputs": [],
   "source": [
    "distTpSexo = coluna_tp_sexo.value_counts()"
   ]
  },
  {
   "cell_type": "code",
   "execution_count": 121,
   "id": "amber-ranch",
   "metadata": {},
   "outputs": [
    {
     "data": {
      "text/plain": [
       "F    58\n",
       "M    51\n",
       "Name: TP_SEXO, dtype: int64"
      ]
     },
     "execution_count": 121,
     "metadata": {},
     "output_type": "execute_result"
    }
   ],
   "source": [
    "distTpSexo"
   ]
  },
  {
   "cell_type": "markdown",
   "id": "chubby-magic",
   "metadata": {},
   "source": [
    "## Distribuição de Gestantes"
   ]
  },
  {
   "cell_type": "code",
   "execution_count": 122,
   "id": "incorporated-entry",
   "metadata": {},
   "outputs": [],
   "source": [
    "column_in_gestante = SelectColumn_Concurso['IN_GESTANTE']"
   ]
  },
  {
   "cell_type": "code",
   "execution_count": 109,
   "id": "fitting-overall",
   "metadata": {},
   "outputs": [
    {
     "data": {
      "text/plain": [
       "0    0\n",
       "1    0\n",
       "2    0\n",
       "3    0\n",
       "4    0\n",
       "Name: IN_GESTANTE, dtype: int64"
      ]
     },
     "execution_count": 109,
     "metadata": {},
     "output_type": "execute_result"
    }
   ],
   "source": [
    "column_in_gestante.head()"
   ]
  },
  {
   "cell_type": "code",
   "execution_count": 111,
   "id": "early-wages",
   "metadata": {},
   "outputs": [],
   "source": [
    "distInGestante = column_in_gestante.value_counts()"
   ]
  },
  {
   "cell_type": "code",
   "execution_count": 116,
   "id": "piano-sacrifice",
   "metadata": {},
   "outputs": [
    {
     "data": {
      "text/plain": [
       "0    105\n",
       "1      4\n",
       "Name: IN_GESTANTE, dtype: int64"
      ]
     },
     "execution_count": 116,
     "metadata": {},
     "output_type": "execute_result"
    }
   ],
   "source": [
    "# Quantidade de gestantes\n",
    "distInGestante"
   ]
  },
  {
   "cell_type": "code",
   "execution_count": 117,
   "id": "jewish-inspection",
   "metadata": {},
   "outputs": [],
   "source": [
    "# Porcentagem de gestantes\n",
    "percentInGestante = [100 * x/distInGestante.sum() for x in distInGestante]"
   ]
  },
  {
   "cell_type": "code",
   "execution_count": 124,
   "id": "occupational-works",
   "metadata": {},
   "outputs": [
    {
     "data": {
      "text/plain": [
       "[96.3302752293578, 3.669724770642202]"
      ]
     },
     "execution_count": 124,
     "metadata": {},
     "output_type": "execute_result"
    }
   ],
   "source": [
    "# Porcentagem de gestantes\n",
    "percentInGestante"
   ]
  },
  {
   "cell_type": "markdown",
   "id": "chemical-session",
   "metadata": {},
   "source": [
    "### Distribuição de Gestantes dentre os canditatos do sexo feminino"
   ]
  },
  {
   "cell_type": "code",
   "execution_count": 129,
   "id": "ecological-fantasy",
   "metadata": {},
   "outputs": [],
   "source": [
    "sexo_Feminino = distTpSexo[0]"
   ]
  },
  {
   "cell_type": "code",
   "execution_count": 130,
   "id": "dramatic-tanzania",
   "metadata": {},
   "outputs": [],
   "source": [
    "nu_gestantes = distInGestante[1]"
   ]
  },
  {
   "cell_type": "code",
   "execution_count": 131,
   "id": "swiss-ukraine",
   "metadata": {},
   "outputs": [
    {
     "data": {
      "text/plain": [
       "58"
      ]
     },
     "execution_count": 131,
     "metadata": {},
     "output_type": "execute_result"
    }
   ],
   "source": [
    "sexo_Feminino"
   ]
  },
  {
   "cell_type": "code",
   "execution_count": 132,
   "id": "junior-science",
   "metadata": {},
   "outputs": [
    {
     "data": {
      "text/plain": [
       "4"
      ]
     },
     "execution_count": 132,
     "metadata": {},
     "output_type": "execute_result"
    }
   ],
   "source": [
    "nu_gestantes"
   ]
  },
  {
   "cell_type": "code",
   "execution_count": 133,
   "id": "difficult-satisfaction",
   "metadata": {},
   "outputs": [],
   "source": [
    "percentGestantes = 100*nu_gestantes/sexo_Feminino"
   ]
  },
  {
   "cell_type": "code",
   "execution_count": 135,
   "id": "incident-brown",
   "metadata": {},
   "outputs": [
    {
     "data": {
      "text/plain": [
       "6.896551724137931"
      ]
     },
     "execution_count": 135,
     "metadata": {},
     "output_type": "execute_result"
    }
   ],
   "source": [
    "# Porcentagem de gestantes dentre os candidatos do sexo feminino\n",
    "percentGestantes"
   ]
  },
  {
   "cell_type": "code",
   "execution_count": 136,
   "id": "center-settle",
   "metadata": {},
   "outputs": [],
   "source": [
    "percentNaoGestantes = 100 - percentGestantes"
   ]
  },
  {
   "cell_type": "code",
   "execution_count": 138,
   "id": "printable-reducing",
   "metadata": {},
   "outputs": [
    {
     "data": {
      "text/plain": [
       "93.10344827586206"
      ]
     },
     "execution_count": 138,
     "metadata": {},
     "output_type": "execute_result"
    }
   ],
   "source": [
    "# Porcentagem de NÃO gestantes dentre os candidatos do sexo feminino\n",
    "percentNaoGestantes"
   ]
  },
  {
   "cell_type": "code",
   "execution_count": 226,
   "id": "gross-recording",
   "metadata": {},
   "outputs": [
    {
     "data": {
      "image/png": "[encoded data removed]",
      "text/plain": [
       "<Figure size 432x288 with 1 Axes>"
      ]
     },
     "metadata": {},
     "output_type": "display_data"
    }
   ],
   "source": [
    "# Pie chart\n",
    "labels = 'Gestantes', 'Não Gestantes'\n",
    "size = [percentGestantes, percentNaoGestantes]\n",
    "explode = (0, 0.02) # Separa Fatia\n",
    "\n",
    "# Add colors - Color Config\n",
    "colors = ['#ffcc99','#ff9999'] \n",
    "\n",
    "fig1, ax1 = plt.subplots()\n",
    "ax1.pie(sizes, explode=explode, \n",
    "        labels=labels,     # add Labels\n",
    "        colors=colors,     # add Colors\n",
    "        autopct='%1.1f%%', # add Porcentagem\n",
    "        shadow=False,      # add Shadows\n",
    "        startangle=90)     # Angle\n",
    "\n",
    "ax1.axis('equal')  # Equal aspect ratio ensures that pie is drawn as a circle.\n",
    "plt.show()"
   ]
  },
  {
   "cell_type": "code",
   "execution_count": null,
   "id": "phantom-heading",
   "metadata": {},
   "outputs": [],
   "source": []
  }
 ],
 "metadata": {
  "kernelspec": {
   "display_name": "Python 3",
   "language": "python",
   "name": "python3"
  },
  "language_info": {
   "codemirror_mode": {
    "name": "ipython",
    "version": 3
   },
   "file_extension": ".py",
   "mimetype": "text/x-python",
   "name": "python",
   "nbconvert_exporter": "python",
   "pygments_lexer": "ipython3",
   "version": "3.9.2"
  }
 },
 "nbformat": 4,
 "nbformat_minor": 5
}
